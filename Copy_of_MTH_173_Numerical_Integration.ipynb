{
  "nbformat": 4,
  "nbformat_minor": 0,
  "metadata": {
    "colab": {
      "provenance": [],
      "include_colab_link": true
    },
    "kernelspec": {
      "name": "python3",
      "display_name": "Python 3"
    },
    "language_info": {
      "name": "python"
    }
  },
  "cells": [
    {
      "cell_type": "markdown",
      "metadata": {
        "id": "view-in-github",
        "colab_type": "text"
      },
      "source": [
        "<a href=\"https://colab.research.google.com/github/wolf073/learn-python-the-hard-way/blob/master/Copy_of_MTH_173_Numerical_Integration.ipynb\" target=\"_parent\"><img src=\"https://colab.research.google.com/assets/colab-badge.svg\" alt=\"Open In Colab\"/></a>"
      ]
    },
    {
      "cell_type": "markdown",
      "source": [
        "<center>\n",
        "<font size='6'>Numerical Integration with SciPy</font>\n",
        "\n",
        "MTH 173 Analytical Geometry and Calculus II\n",
        "\n",
        "Patrick B. Pirilla\n",
        "\n",
        "Westmoreland County Community College\n",
        "</center>\n",
        "\n",
        "---\n",
        "\n",
        "\n",
        "\n",
        "In this workbook, we will explore tools for numerical integration of functions.  We will be working with functions with known formulas, but we will intentionally not use the most optimal tools for this approach.  Instead, we will use the trapezoid rule.  This way, the algorithm can be easily adapted for the more common scenario of integrating a function made of recorded data.\n",
        "\n",
        "You can play around with this notebook by clicking on the **File** menu, then **Open in playground mode**.  Or, you can make a copy of this notebook and save your work by clicking on **File**, then **Save a copy in Drive**.\n",
        "\n",
        "Before we begin any program, we need to load packages.  (You can read this as \"Someone else did all of the hard work for us, we just need to choose whose work to use.)"
      ],
      "metadata": {
        "id": "tQfsCVyLcnPX"
      }
    },
    {
      "cell_type": "code",
      "execution_count": null,
      "metadata": {
        "id": "NXB_TgUGbxju"
      },
      "outputs": [],
      "source": [
        "# DO NOT MODIFY THIS SECTION\n",
        "\n",
        "# The NumPy package includes many elementary functions like np.sqrt, np.sin, etc.\n",
        "# It also has routines for speeding up repeated calculations\n",
        "import numpy as np\n",
        "\n",
        "# The SciPy Integration package has algorithms specifically for numerical integration\n",
        "import scipy.integrate as si\n"
      ]
    },
    {
      "cell_type": "markdown",
      "source": [
        "This workbook is built to evaluate an integral in the form,\n",
        "$$\\int_a^b f(x)\\,\\mathrm{d}x.$$\n",
        "\n",
        "In the code block below, you can set the particular function `f(x)` by changing the `return` line.\n",
        "\n",
        "You can also set the limits of integration by changing the values in the `a=` and `b=` lines.\n",
        "\n",
        "Finally, you can set the accuracy level of the numerical integration by changing the value in the `N=` line.  Higher values of `N` give a more accurate result, but they also take much longer to calculate.  Very often `N=1000` or `N=10000` is a good middle ground between accurate enough and fast enough."
      ],
      "metadata": {
        "id": "b7NksEWcdV1s"
      }
    },
    {
      "cell_type": "code",
      "source": [
        "# MODIFY THIS SECTION TO REPRESENT YOUR INTEGRAL\n",
        "\n",
        "# The integrand\n",
        "def f(x):\n",
        "  return np.sqrt(1+x**2)\n",
        "\n",
        "# the limits of integration\n",
        "a = 0\n",
        "b = 1\n",
        "\n",
        "# The number of steps\n",
        "N = 10000\n"
      ],
      "metadata": {
        "id": "AvFYRdKudPmu"
      },
      "execution_count": null,
      "outputs": []
    },
    {
      "cell_type": "markdown",
      "source": [
        "Finally, we will actually run the code to calculate the value of the integral numerically.  This is already set up for you -- just run it and go!\n",
        "\n",
        "The numerical value displayed below the code block will be the numerical solution to your definite integral."
      ],
      "metadata": {
        "id": "eTZVx_7FRZOk"
      }
    },
    {
      "cell_type": "code",
      "source": [
        "# DO NOT MODIFY THIS SECTION\n",
        "\n",
        "# This algorithm sets up the parameters needed to perform the numerical integration.\n",
        "delta = (b-a)/N # step size\n",
        "xvalues = np.arange(a, b, delta)\n",
        "integrand = f(xvalues)\n",
        "\n",
        "# Perform the numerical integration and print the result\n",
        "print(si.trapezoid(integrand, dx=delta))\n"
      ],
      "metadata": {
        "colab": {
          "base_uri": "https://localhost:8080/"
        },
        "id": "tqbXA7nPheJX",
        "outputId": "25abce75-46bc-46b0-ed10-25dcfa48e4dd"
      },
      "execution_count": null,
      "outputs": [
        {
          "output_type": "stream",
          "name": "stdout",
          "text": [
            "1.1476521574647829\n"
          ]
        }
      ]
    },
    {
      "cell_type": "markdown",
      "source": [
        "After you have made changes to this program, click on the **Runtime** menu, then choose **Restart session and run all**.  This will clear any old data from memory before executing your code.  You can then print a copy of the program for your records (or to submit with a take-home project) by clicking on the **File** menu, then **Print**."
      ],
      "metadata": {
        "id": "t13ALPaKSfd1"
      }
    }
  ]
}